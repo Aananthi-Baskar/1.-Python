{
 "cells": [
  {
   "cell_type": "code",
   "execution_count": null,
   "metadata": {},
   "outputs": [],
   "source": [
    "# Create a class and function, and list out the items in the list"
   ]
  },
  {
   "cell_type": "code",
   "execution_count": 16,
   "metadata": {},
   "outputs": [],
   "source": [
    "lists = [\"Machine Learning\", \"Neural networks\", \"Vision\", \"Robotics\", \"Speech Processing\", \"Natural Language processing\"]\n",
    "class SubfieldsInAI():\n",
    "    def Subfields():\n",
    "        print(\"Sub-fields in AI are:\")\n",
    "        for x in lists:\n",
    "            print(x)"
   ]
  },
  {
   "cell_type": "code",
   "execution_count": 17,
   "metadata": {},
   "outputs": [
    {
     "name": "stdout",
     "output_type": "stream",
     "text": [
      "Sub-fields in AI are:\n",
      "Machine Learning\n",
      "Neural networks\n",
      "Vision\n",
      "Robotics\n",
      "Speech Processing\n",
      "Natural Language processing\n"
     ]
    }
   ],
   "source": [
    "SubfieldsInAI.Subfields()"
   ]
  },
  {
   "cell_type": "code",
   "execution_count": null,
   "metadata": {},
   "outputs": [],
   "source": [
    "# Create a function that checks whether the given number is Odd or Even"
   ]
  },
  {
   "cell_type": "code",
   "execution_count": 3,
   "metadata": {},
   "outputs": [],
   "source": [
    "class oddEven():\n",
    "    def oddEven():\n",
    "        num = int(input(\"Enter a number: \"))\n",
    "        if(num%2==1):\n",
    "            print(num, \"is odd number\")\n",
    "        else:\n",
    "            print(num, \"is even number\") \n"
   ]
  },
  {
   "cell_type": "code",
   "execution_count": 4,
   "metadata": {},
   "outputs": [
    {
     "name": "stdout",
     "output_type": "stream",
     "text": [
      "Enter a number: 52452\n",
      "52452 is even number\n"
     ]
    }
   ],
   "source": [
    "oddEven.oddEven()"
   ]
  },
  {
   "cell_type": "code",
   "execution_count": null,
   "metadata": {},
   "outputs": [],
   "source": [
    "# Create a function that tells elegibility of marriage for male and female according to their age limit like 21 for male and 18 for female"
   ]
  },
  {
   "cell_type": "code",
   "execution_count": 9,
   "metadata": {},
   "outputs": [],
   "source": [
    "class ElegiblityForMarriage():\n",
    "    def Elegible():\n",
    "        Gender = input(\"Your Gender: \")\n",
    "        Age = int(input(\"Your Age: \"))\n",
    "        if(Gender==\"Male\"):\n",
    "            if(Age>21):\n",
    "                print(\"Elegible\")\n",
    "            else:\n",
    "                print(\"Not elegible\")\n",
    "        else:\n",
    "            if(Age>18):\n",
    "                print(\"Elegible\")\n",
    "            else:\n",
    "                print(\"Not elegible\")"
   ]
  },
  {
   "cell_type": "code",
   "execution_count": 10,
   "metadata": {},
   "outputs": [
    {
     "name": "stdout",
     "output_type": "stream",
     "text": [
      "Your Gender: Male\n",
      "Your Age: 20\n",
      "Not elegible\n"
     ]
    }
   ],
   "source": [
    "ElegiblityForMarriage.Elegible()"
   ]
  },
  {
   "cell_type": "code",
   "execution_count": null,
   "metadata": {},
   "outputs": [],
   "source": [
    "# calculate the percentage of your 10th mark"
   ]
  },
  {
   "cell_type": "code",
   "execution_count": 13,
   "metadata": {},
   "outputs": [],
   "source": [
    "class FindPercent():\n",
    "    def percentage():\n",
    "        Subject1= int(input(\"Subject1= \"))\n",
    "        Subject2= int(input(\"Subject2= \"))\n",
    "        Subject3= int(input(\"Subject3= \"))\n",
    "        Subject4= int(input(\"Subject4= \"))\n",
    "        Subject5= int(input(\"Subject5= \"))\n",
    "        total = Subject1+Subject2+Subject3+Subject4+Subject5\n",
    "        print(\"Total : \",total)\n",
    "        Percentage = (total/500)*100\n",
    "        print(\"percentage : \",Percentage)"
   ]
  },
  {
   "cell_type": "code",
   "execution_count": 14,
   "metadata": {},
   "outputs": [
    {
     "name": "stdout",
     "output_type": "stream",
     "text": [
      "Subject1= 98\n",
      "Subject2= 87\n",
      "Subject3= 95\n",
      "Subject4= 95\n",
      "Subject5= 93\n",
      "Total :  468\n",
      "percentage :  93.60000000000001\n"
     ]
    }
   ],
   "source": [
    "FindPercent.percentage()"
   ]
  },
  {
   "cell_type": "code",
   "execution_count": null,
   "metadata": {},
   "outputs": [],
   "source": [
    "#print area and perimeter of triangle using class and functions"
   ]
  },
  {
   "cell_type": "code",
   "execution_count": 19,
   "metadata": {},
   "outputs": [],
   "source": [
    "class triangle():\n",
    "    def triangle():\n",
    "        Height=int(input(\"Height: \"))\n",
    "        Breadth=int(input(\"Breadth: \"))\n",
    "        print(\"Area formula : (Height*Breadth)/2\")\n",
    "        Area_of_Triangle = (Height*Breadth)/2\n",
    "        print(\"Area of Triangle: \", Area_of_Triangle)\n",
    "        Height1=int(input(\"Height1: \"))\n",
    "        Height2=int(input(\"Height2: \"))   \n",
    "        Breadth=int(input(\"Breadth: \"))\n",
    "        print(\"Perimeter formula : Height1+Height2+Breadth\")\n",
    "        Perimeter_of_triangle=Height1+Height2+Breadth\n",
    "        print(\"Perimeter of Triangle:\", Perimeter_of_triangle)"
   ]
  },
  {
   "cell_type": "code",
   "execution_count": 20,
   "metadata": {},
   "outputs": [
    {
     "name": "stdout",
     "output_type": "stream",
     "text": [
      "Height: 32\n",
      "Breadth: 34\n",
      "Area formula : (Height*Breadth)/2\n",
      "Area of Triangle:  544.0\n",
      "Height1: 2\n",
      "Height2: 4\n",
      "Breadth: 4\n",
      "Perimeter formula : Height1+Height2+Breadth\n",
      "Perimeter of Triangle: 10\n"
     ]
    }
   ],
   "source": [
    "triangle.triangle()"
   ]
  },
  {
   "cell_type": "code",
   "execution_count": null,
   "metadata": {},
   "outputs": [],
   "source": []
  },
  {
   "cell_type": "code",
   "execution_count": null,
   "metadata": {},
   "outputs": [],
   "source": []
  },
  {
   "cell_type": "code",
   "execution_count": null,
   "metadata": {},
   "outputs": [],
   "source": []
  },
  {
   "cell_type": "code",
   "execution_count": null,
   "metadata": {},
   "outputs": [],
   "source": []
  }
 ],
 "metadata": {
  "kernelspec": {
   "display_name": "Python 3",
   "language": "python",
   "name": "python3"
  },
  "language_info": {
   "codemirror_mode": {
    "name": "ipython",
    "version": 3
   },
   "file_extension": ".py",
   "mimetype": "text/x-python",
   "name": "python",
   "nbconvert_exporter": "python",
   "pygments_lexer": "ipython3",
   "version": "3.7.4"
  }
 },
 "nbformat": 4,
 "nbformat_minor": 2
}
