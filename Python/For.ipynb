{
 "cells": [
  {
   "cell_type": "code",
   "execution_count": 4,
   "metadata": {},
   "outputs": [
    {
     "name": "stdout",
     "output_type": "stream",
     "text": [
      "23 : Adult\n",
      "12 : Children\n",
      "45 : Citizen\n",
      "67 : Senior Citizen\n",
      "34 : Adult\n",
      "89 : Senior Citizen\n"
     ]
    }
   ],
   "source": [
    "lists = [23, 12, 45, 67, 34, 89]\n",
    "for age in lists:\n",
    "    if(age<18):\n",
    "        print(age, \": Children\")\n",
    "    elif(age<35):\n",
    "        print(age, \": Adult\")\n",
    "    elif(age<59):\n",
    "        print(age, \": Citizen\")\n",
    "    else:\n",
    "        print(age, \": Senior Citizen\")"
   ]
  },
  {
   "cell_type": "code",
   "execution_count": null,
   "metadata": {},
   "outputs": [],
   "source": []
  },
  {
   "cell_type": "code",
   "execution_count": null,
   "metadata": {},
   "outputs": [],
   "source": []
  }
 ],
 "metadata": {
  "kernelspec": {
   "display_name": "Python 3",
   "language": "python",
   "name": "python3"
  },
  "language_info": {
   "codemirror_mode": {
    "name": "ipython",
    "version": 3
   },
   "file_extension": ".py",
   "mimetype": "text/x-python",
   "name": "python",
   "nbconvert_exporter": "python",
   "pygments_lexer": "ipython3",
   "version": "3.7.4"
  }
 },
 "nbformat": 4,
 "nbformat_minor": 2
}
