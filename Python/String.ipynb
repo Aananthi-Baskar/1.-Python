{
 "cells": [
  {
   "cell_type": "code",
   "execution_count": 1,
   "metadata": {},
   "outputs": [
    {
     "name": "stdout",
     "output_type": "stream",
     "text": [
      "First_name: Aananthi Baskar\n"
     ]
    }
   ],
   "source": [
    "First_name = \"Aananthi Baskar\"\n",
    "print(\"First_name:\", First_name)"
   ]
  },
  {
   "cell_type": "code",
   "execution_count": 2,
   "metadata": {},
   "outputs": [
    {
     "ename": "SyntaxError",
     "evalue": "invalid syntax (<ipython-input-2-c1ffdb55aca0>, line 1)",
     "output_type": "error",
     "traceback": [
      "\u001b[1;36m  File \u001b[1;32m\"<ipython-input-2-c1ffdb55aca0>\"\u001b[1;36m, line \u001b[1;32m1\u001b[0m\n\u001b[1;33m    First_name = Aananthi Baskar\u001b[0m\n\u001b[1;37m                               ^\u001b[0m\n\u001b[1;31mSyntaxError\u001b[0m\u001b[1;31m:\u001b[0m invalid syntax\n"
     ]
    }
   ],
   "source": [
    "First_name = Aananthi Baskar\n",
    "print(\"First_name:\", First_name)"
   ]
  },
  {
   "cell_type": "code",
   "execution_count": 3,
   "metadata": {},
   "outputs": [
    {
     "name": "stdout",
     "output_type": "stream",
     "text": [
      "First_name: Aananthi Baskar\n"
     ]
    }
   ],
   "source": [
    "First_name = 'Aananthi Baskar'\n",
    "print(\"First_name:\", First_name)"
   ]
  },
  {
   "cell_type": "code",
   "execution_count": 6,
   "metadata": {},
   "outputs": [
    {
     "name": "stdout",
     "output_type": "stream",
     "text": [
      "3.0 is the sub value of num2 from num1\n"
     ]
    }
   ],
   "source": [
    "num1=10.5\n",
    "num2=13.5\n",
    "sub=num2-num1\n",
    "print(sub,\"is the sub value of num2 from num1\")"
   ]
  },
  {
   "cell_type": "code",
   "execution_count": 8,
   "metadata": {},
   "outputs": [
    {
     "name": "stdout",
     "output_type": "stream",
     "text": [
      "Full Name: Aananthi Baskar\n"
     ]
    }
   ],
   "source": [
    "First_name = \"Aananthi\"\n",
    "Last_name='Baskar'\n",
    "print(\"Full Name:\", First_name,Last_name)\n"
   ]
  },
  {
   "cell_type": "code",
   "execution_count": 9,
   "metadata": {},
   "outputs": [
    {
     "name": "stdout",
     "output_type": "stream",
     "text": [
      "The addition of two numbers\n",
      "The Number 1: 10\n",
      "The Number 2: 20\n",
      "The answer is: 30\n"
     ]
    }
   ],
   "source": [
    "Num1=10\n",
    "Num2=20\n",
    "Num3=30\n",
    "print(\"The addition of two numbers\")\n",
    "print(\"The Number 1:\", Num1)\n",
    "print(\"The Number 2:\", Num2)\n",
    "add=Num1+Num2\n",
    "print(\"The answer is:\",add)"
   ]
  },
  {
   "cell_type": "code",
   "execution_count": 10,
   "metadata": {},
   "outputs": [
    {
     "name": "stdout",
     "output_type": "stream",
     "text": [
      "The addition of two numbers\n",
      "The Number 1: 10\n",
      "The Number 2: 20\n",
      "The answer is: 30\n"
     ]
    }
   ],
   "source": [
    "Num1, Num2 = 10, 20\n",
    "print(\"The addition of two numbers\")\n",
    "print(\"The Number 1:\", Num1)\n",
    "print(\"The Number 2:\", Num2)\n",
    "add=Num1+Num2\n",
    "print(\"The answer is:\",add)"
   ]
  },
  {
   "cell_type": "code",
   "execution_count": 13,
   "metadata": {
    "scrolled": true
   },
   "outputs": [
    {
     "name": "stdout",
     "output_type": "stream",
     "text": [
      "The addition of two numbers\n",
      "The Number 1: 10\n",
      "The Number 2: 20\n",
      "The answer is: 30 200\n",
      "200\n"
     ]
    }
   ],
   "source": [
    "Num1, Num2 = 10, 20\n",
    "Mul=10*20\n",
    "print(\"The addition of two numbers\")\n",
    "print(\"The Number 1:\", Num1)\n",
    "print(\"The Number 2:\", Num2)\n",
    "add=Num1+Num2\n",
    "print(\"The answer is:\",add, Mul)\n",
    "print(Mul)"
   ]
  },
  {
   "cell_type": "code",
   "execution_count": null,
   "metadata": {},
   "outputs": [],
   "source": []
  }
 ],
 "metadata": {
  "kernelspec": {
   "display_name": "Python 3",
   "language": "python",
   "name": "python3"
  },
  "language_info": {
   "codemirror_mode": {
    "name": "ipython",
    "version": 3
   },
   "file_extension": ".py",
   "mimetype": "text/x-python",
   "name": "python",
   "nbconvert_exporter": "python",
   "pygments_lexer": "ipython3",
   "version": "3.7.4"
  }
 },
 "nbformat": 4,
 "nbformat_minor": 2
}
